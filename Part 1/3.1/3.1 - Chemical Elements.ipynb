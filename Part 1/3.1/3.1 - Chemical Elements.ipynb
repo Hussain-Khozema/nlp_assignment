{
 "cells": [
  {
   "cell_type": "markdown",
   "metadata": {},
   "source": [
    "# Scraping domain content"
   ]
  },
  {
   "cell_type": "code",
   "execution_count": 116,
   "metadata": {
    "ExecuteTime": {
     "end_time": "2020-10-16T08:17:45.076407Z",
     "start_time": "2020-10-16T08:17:39.818139Z"
    }
   },
   "outputs": [],
   "source": [
    "import requests\n",
    "from bs4 import BeautifulSoup\n",
    "import os\n",
    "import re \n",
    "\n",
    "#Elements to scrape content\n",
    "chemical_elements = ['Zirconium','Hafnium','Technetium','Lithium','Beryllium','Magnesium','Potassium','Calcium',\n",
    "                     'Tantalumh','Tungsten','Nickel','Oxygen','Copper','Aluminium','Zinc','Cobalt',\n",
    "                     'Iron','Silver','Rhodium','Uranium']\n",
    "\n",
    "url_prefix = \"https://en.wikipedia.org/wiki/\"\n",
    "output= []\n",
    "for element in chemical_elements:\n",
    "    url = url_prefix + element\n",
    "    resp = requests.get(url)\n",
    "    element_soup = BeautifulSoup(resp.text, 'html.parser')\n",
    "    #Create new file to store output\n",
    "    with open (os.getcwd() + \"\\\\Chemical Elements\\\\\" + element+\".txt\", 'x', encoding=\"utf-8\") as f:\n",
    "        for i in element_soup.find_all('p'):\n",
    "            #Replace reference and write to file\n",
    "            filt_text = re.sub(r'[\\[].*?[\\]]', '', i.text)\n",
    "            f.write(filt_text + \" \")\n",
    "        f.close()"
   ]
  },
  {
   "cell_type": "markdown",
   "metadata": {},
   "source": [
    "# Tokenization"
   ]
  },
  {
   "cell_type": "code",
   "execution_count": 121,
   "metadata": {
    "ExecuteTime": {
     "end_time": "2020-10-16T08:19:51.943662Z",
     "start_time": "2020-10-16T08:19:51.295562Z"
    }
   },
   "outputs": [
    {
     "data": {
      "text/html": [
       "<div>\n",
       "<style scoped>\n",
       "    .dataframe tbody tr th:only-of-type {\n",
       "        vertical-align: middle;\n",
       "    }\n",
       "\n",
       "    .dataframe tbody tr th {\n",
       "        vertical-align: top;\n",
       "    }\n",
       "\n",
       "    .dataframe thead th {\n",
       "        text-align: right;\n",
       "    }\n",
       "</style>\n",
       "<table border=\"1\" class=\"dataframe\">\n",
       "  <thead>\n",
       "    <tr style=\"text-align: right;\">\n",
       "      <th></th>\n",
       "      <th>Token</th>\n",
       "      <th>Length</th>\n",
       "    </tr>\n",
       "  </thead>\n",
       "  <tbody>\n",
       "    <tr>\n",
       "      <th>0</th>\n",
       "      <td>isobutyl</td>\n",
       "      <td>8</td>\n",
       "    </tr>\n",
       "    <tr>\n",
       "      <th>1</th>\n",
       "      <td>conditions</td>\n",
       "      <td>10</td>\n",
       "    </tr>\n",
       "    <tr>\n",
       "      <th>2</th>\n",
       "      <td>minerals</td>\n",
       "      <td>8</td>\n",
       "    </tr>\n",
       "    <tr>\n",
       "      <th>3</th>\n",
       "      <td>commonly</td>\n",
       "      <td>8</td>\n",
       "    </tr>\n",
       "    <tr>\n",
       "      <th>4</th>\n",
       "      <td>22,700</td>\n",
       "      <td>6</td>\n",
       "    </tr>\n",
       "    <tr>\n",
       "      <th>...</th>\n",
       "      <td>...</td>\n",
       "      <td>...</td>\n",
       "    </tr>\n",
       "    <tr>\n",
       "      <th>13385</th>\n",
       "      <td>UO</td>\n",
       "      <td>2</td>\n",
       "    </tr>\n",
       "    <tr>\n",
       "      <th>13386</th>\n",
       "      <td>neptunium-239</td>\n",
       "      <td>13</td>\n",
       "    </tr>\n",
       "    <tr>\n",
       "      <th>13387</th>\n",
       "      <td>OECD</td>\n",
       "      <td>4</td>\n",
       "    </tr>\n",
       "    <tr>\n",
       "      <th>13388</th>\n",
       "      <td>pyrophoricity</td>\n",
       "      <td>13</td>\n",
       "    </tr>\n",
       "    <tr>\n",
       "      <th>13389</th>\n",
       "      <td>uranium-oxygen</td>\n",
       "      <td>14</td>\n",
       "    </tr>\n",
       "  </tbody>\n",
       "</table>\n",
       "<p>13390 rows × 2 columns</p>\n",
       "</div>"
      ],
      "text/plain": [
       "                Token  Length\n",
       "0            isobutyl       8\n",
       "1          conditions      10\n",
       "2            minerals       8\n",
       "3            commonly       8\n",
       "4              22,700       6\n",
       "...               ...     ...\n",
       "13385              UO       2\n",
       "13386   neptunium-239      13\n",
       "13387            OECD       4\n",
       "13388   pyrophoricity      13\n",
       "13389  uranium-oxygen      14\n",
       "\n",
       "[13390 rows x 2 columns]"
      ]
     },
     "execution_count": 121,
     "metadata": {},
     "output_type": "execute_result"
    }
   ],
   "source": [
    "import nltk\n",
    "from nltk.stem import PorterStemmer\n",
    "import os\n",
    "\n",
    "chemical_elements = ['Zirconium','Hafnium','Technetium','Lithium','Beryllium','Magnesium','Potassium','Calcium',\n",
    "                     'Tantalumh','Tungsten','Nickel','Oxygen','Copper','Aluminium','Zinc','Cobalt',\n",
    "                     'Iron','Silver','Rhodium','Uranium']\n",
    "\n",
    "data = []\n",
    "\n",
    "for element in chemical_elements:\n",
    "    with open(os.getcwd() + \"\\\\Chemical Elements\\\\\" + element+\".txt\", 'r', encoding=\"utf-8\") as f:\n",
    "        text =  f.read().encode('utf-8')\n",
    "    \n",
    "        filt_text = text.decode(\"utf-8\").replace('\\n','')\n",
    "        data.append({'element': element, 'text':filt_text})\n",
    "    f.close()\n",
    "\n",
    "tokens_data_before_stem = {}\n",
    "len_dist_before_stem = {}\n",
    "\n",
    "for i in data:\n",
    "    tokens = set(nltk.word_tokenize(i['text']))\n",
    "    for t in tokens:\n",
    "        if(t not in tokens_data_before_stem.keys()):\n",
    "            tokens_data_before_stem[t] = len(t)\n",
    "            \n",
    "        if(len(t) not in len_dist_before_stem.keys()):\n",
    "            len_dist_before_stem[len(t)] = [t]\n",
    "        else:\n",
    "            len_dist_before_stem[len(t)].append(t)\n",
    "                \n",
    "\n",
    "import pandas as pd\n",
    "tokens_data_before_stem_df = pd.DataFrame(tokens_data_before_stem.items(), columns=['Token', 'Length'])\n",
    "len_dist_before_stem_df = pd.DataFrame(len_dist_before_stem.items(), columns=['Length', 'Tokens'])\n",
    "tokens_data_before_stem_df\n",
    "#len_dist_before_stem_df"
   ]
  },
  {
   "cell_type": "code",
   "execution_count": 118,
   "metadata": {
    "ExecuteTime": {
     "end_time": "2020-10-16T08:18:08.966290Z",
     "start_time": "2020-10-16T08:18:08.823794Z"
    }
   },
   "outputs": [
    {
     "data": {
      "text/plain": [
       "<module 'matplotlib.pyplot' from 'c:\\\\users\\\\jerms\\\\appdata\\\\local\\\\programs\\\\python\\\\python37\\\\lib\\\\site-packages\\\\matplotlib\\\\pyplot.py'>"
      ]
     },
     "execution_count": 118,
     "metadata": {},
     "output_type": "execute_result"
    },
    {
     "data": {
      "image/png": "[encoded data removed]",
      "text/plain": [
       "<Figure size 432x288 with 1 Axes>"
      ]
     },
     "metadata": {
      "needs_background": "light"
     },
     "output_type": "display_data"
    }
   ],
   "source": [
    "import matplotlib.pyplot as plt\n",
    "\n",
    "tokens_x = list(len_dist_before_stem.keys())\n",
    "tokens_y = list()\n",
    "\n",
    "for k,v in len_dist_before_stem.items():\n",
    "    tokens_y.append(len(v))\n",
    "\n",
    "fig = plt.figure()\n",
    "ax = fig.add_axes([0,0,1,1])\n",
    "ax.bar(tokens_x, tokens_y)\n",
    "ax.set_ylabel('Number of tokens')\n",
    "ax.set_xlabel('Length of tokens')\n",
    "ax.set_title('Token Distribution')\n",
    "plt"
   ]
  },
  {
   "cell_type": "code",
   "execution_count": 135,
   "metadata": {
    "ExecuteTime": {
     "end_time": "2020-10-16T08:30:24.750155Z",
     "start_time": "2020-10-16T08:30:24.498313Z"
    }
   },
   "outputs": [
    {
     "data": {
      "text/html": [
       "<div>\n",
       "<style scoped>\n",
       "    .dataframe tbody tr th:only-of-type {\n",
       "        vertical-align: middle;\n",
       "    }\n",
       "\n",
       "    .dataframe tbody tr th {\n",
       "        vertical-align: top;\n",
       "    }\n",
       "\n",
       "    .dataframe thead th {\n",
       "        text-align: right;\n",
       "    }\n",
       "</style>\n",
       "<table border=\"1\" class=\"dataframe\">\n",
       "  <thead>\n",
       "    <tr style=\"text-align: right;\">\n",
       "      <th></th>\n",
       "      <th>Length</th>\n",
       "      <th>Tokens</th>\n",
       "    </tr>\n",
       "  </thead>\n",
       "  <tbody>\n",
       "    <tr>\n",
       "      <th>0</th>\n",
       "      <td>8</td>\n",
       "      <td>[isobutyl, commonli, shortest, injector, radio...</td>\n",
       "    </tr>\n",
       "    <tr>\n",
       "      <th>1</th>\n",
       "      <td>6</td>\n",
       "      <td>[condit, 22,700, fabric, requir, direct, effic...</td>\n",
       "    </tr>\n",
       "    <tr>\n",
       "      <th>2</th>\n",
       "      <td>5</td>\n",
       "      <td>[miner, stick, solut, south, anton, phase, age...</td>\n",
       "    </tr>\n",
       "    <tr>\n",
       "      <th>3</th>\n",
       "      <td>4</td>\n",
       "      <td>[235u, 3.09, evid, fast, 1970, give, coat, bom...</td>\n",
       "    </tr>\n",
       "    <tr>\n",
       "      <th>4</th>\n",
       "      <td>7</td>\n",
       "      <td>[product, respect, convert, regener, monomer, ...</td>\n",
       "    </tr>\n",
       "    <tr>\n",
       "      <th>5</th>\n",
       "      <td>3</td>\n",
       "      <td>[cut, all, 360, pwr, e.g, 100, vam, for, now, ...</td>\n",
       "    </tr>\n",
       "    <tr>\n",
       "      <th>6</th>\n",
       "      <td>2</td>\n",
       "      <td>['', wa, Hf, +4, C., CO, up, 60, 40, ga, It, t...</td>\n",
       "    </tr>\n",
       "    <tr>\n",
       "      <th>7</th>\n",
       "      <td>10</td>\n",
       "      <td>[carcinogen, laboratori, throughout, decomposi...</td>\n",
       "    </tr>\n",
       "    <tr>\n",
       "      <th>8</th>\n",
       "      <td>12</td>\n",
       "      <td>[hyperkalemia, relationship, tetraalkoxid, rea...</td>\n",
       "    </tr>\n",
       "    <tr>\n",
       "      <th>9</th>\n",
       "      <td>11</td>\n",
       "      <td>[sorbent-bas, zircon-bear, antiperspir, develo...</td>\n",
       "    </tr>\n",
       "    <tr>\n",
       "      <th>10</th>\n",
       "      <td>9</td>\n",
       "      <td>[lanthanum, treatment, atmospher, two-third, z...</td>\n",
       "    </tr>\n",
       "    <tr>\n",
       "      <th>11</th>\n",
       "      <td>1</td>\n",
       "      <td>[:, a, A, %, ), B, ., 1, (, ,, 3, I, $, 2, 5, ...</td>\n",
       "    </tr>\n",
       "    <tr>\n",
       "      <th>12</th>\n",
       "      <td>13</td>\n",
       "      <td>[liquid-liquid, zirconium-rel, 3zro2·co2·h2o, ...</td>\n",
       "    </tr>\n",
       "    <tr>\n",
       "      <th>13</th>\n",
       "      <td>16</td>\n",
       "      <td>[carbon-zirconium, cause-and-effect, hexafluor...</td>\n",
       "    </tr>\n",
       "    <tr>\n",
       "      <th>14</th>\n",
       "      <td>14</td>\n",
       "      <td>[gastrointestin, desferrioxamin, zirconium-bea...</td>\n",
       "    </tr>\n",
       "    <tr>\n",
       "      <th>15</th>\n",
       "      <td>17</td>\n",
       "      <td>[tetrachlorohydrex, zirconium-contain, plutoni...</td>\n",
       "    </tr>\n",
       "    <tr>\n",
       "      <th>16</th>\n",
       "      <td>15</td>\n",
       "      <td>[high-temperatur, organozirconium, industrial-...</td>\n",
       "    </tr>\n",
       "    <tr>\n",
       "      <th>17</th>\n",
       "      <td>19</td>\n",
       "      <td>[cyclopentadiene-typ, beryllium-beryllium, alu...</td>\n",
       "    </tr>\n",
       "    <tr>\n",
       "      <th>18</th>\n",
       "      <td>18</td>\n",
       "      <td>[tetrabenzylhafnium, triethylborohydrid, metal...</td>\n",
       "    </tr>\n",
       "    <tr>\n",
       "      <th>19</th>\n",
       "      <td>25</td>\n",
       "      <td>[tetramethylethylenediamin, beryllium-aluminiu...</td>\n",
       "    </tr>\n",
       "    <tr>\n",
       "      <th>20</th>\n",
       "      <td>20</td>\n",
       "      <td>[hydroxybenzoquinolin, dineopentylberyllium, m...</td>\n",
       "    </tr>\n",
       "    <tr>\n",
       "      <th>21</th>\n",
       "      <td>23</td>\n",
       "      <td>[1,3-trimethylsilylallyl]</td>\n",
       "    </tr>\n",
       "    <tr>\n",
       "      <th>22</th>\n",
       "      <td>22</td>\n",
       "      <td>[third-most-commonly-us]</td>\n",
       "    </tr>\n",
       "    <tr>\n",
       "      <th>23</th>\n",
       "      <td>21</td>\n",
       "      <td>[tungsten-molydopterin, tetrahedite-tennantit,...</td>\n",
       "    </tr>\n",
       "    <tr>\n",
       "      <th>24</th>\n",
       "      <td>26</td>\n",
       "      <td>[cobalt-chromium-molybdenum]</td>\n",
       "    </tr>\n",
       "  </tbody>\n",
       "</table>\n",
       "</div>"
      ],
      "text/plain": [
       "    Length                                             Tokens\n",
       "0        8  [isobutyl, commonli, shortest, injector, radio...\n",
       "1        6  [condit, 22,700, fabric, requir, direct, effic...\n",
       "2        5  [miner, stick, solut, south, anton, phase, age...\n",
       "3        4  [235u, 3.09, evid, fast, 1970, give, coat, bom...\n",
       "4        7  [product, respect, convert, regener, monomer, ...\n",
       "5        3  [cut, all, 360, pwr, e.g, 100, vam, for, now, ...\n",
       "6        2  ['', wa, Hf, +4, C., CO, up, 60, 40, ga, It, t...\n",
       "7       10  [carcinogen, laboratori, throughout, decomposi...\n",
       "8       12  [hyperkalemia, relationship, tetraalkoxid, rea...\n",
       "9       11  [sorbent-bas, zircon-bear, antiperspir, develo...\n",
       "10       9  [lanthanum, treatment, atmospher, two-third, z...\n",
       "11       1  [:, a, A, %, ), B, ., 1, (, ,, 3, I, $, 2, 5, ...\n",
       "12      13  [liquid-liquid, zirconium-rel, 3zro2·co2·h2o, ...\n",
       "13      16  [carbon-zirconium, cause-and-effect, hexafluor...\n",
       "14      14  [gastrointestin, desferrioxamin, zirconium-bea...\n",
       "15      17  [tetrachlorohydrex, zirconium-contain, plutoni...\n",
       "16      15  [high-temperatur, organozirconium, industrial-...\n",
       "17      19  [cyclopentadiene-typ, beryllium-beryllium, alu...\n",
       "18      18  [tetrabenzylhafnium, triethylborohydrid, metal...\n",
       "19      25  [tetramethylethylenediamin, beryllium-aluminiu...\n",
       "20      20  [hydroxybenzoquinolin, dineopentylberyllium, m...\n",
       "21      23                          [1,3-trimethylsilylallyl]\n",
       "22      22                           [third-most-commonly-us]\n",
       "23      21  [tungsten-molydopterin, tetrahedite-tennantit,...\n",
       "24      26                       [cobalt-chromium-molybdenum]"
      ]
     },
     "execution_count": 135,
     "metadata": {},
     "output_type": "execute_result"
    }
   ],
   "source": [
    "import nltk\n",
    "from nltk.stem import PorterStemmer\n",
    "ps = PorterStemmer()\n",
    "\n",
    "tokens_data_after_stem = {}\n",
    "len_dist_after_stem = {}\n",
    "\n",
    "for token in tokens_data_before_stem.keys():\n",
    "    stem = ps.stem(token)\n",
    "    if(stem not in tokens_data_after_stem.keys()):\n",
    "        tokens_data_after_stem[stem] = len(stem)\n",
    "    if(len(stem) not in len_dist_after_stem.keys()):\n",
    "        len_dist_after_stem[len(stem)] = [stem]\n",
    "    else:\n",
    "        len_dist_after_stem[len(stem)].append(stem)\n",
    "\n",
    "tokens_data_after_stem_df = pd.DataFrame(tokens_data_after_stem.items(), columns=['Token', 'Length'])\n",
    "len_dist_after_stem_df = pd.DataFrame(len_dist_after_stem.items(), columns=['Length', 'Tokens'])\n",
    "\n",
    "#tokens_data_after_stem_df\n",
    "len_dist_after_stem_df\n",
    "\n"
   ]
  },
  {
   "cell_type": "code",
   "execution_count": 136,
   "metadata": {
    "ExecuteTime": {
     "end_time": "2020-10-16T08:30:49.752426Z",
     "start_time": "2020-10-16T08:30:49.612869Z"
    }
   },
   "outputs": [
    {
     "data": {
      "text/plain": [
       "<module 'matplotlib.pyplot' from 'c:\\\\users\\\\jerms\\\\appdata\\\\local\\\\programs\\\\python\\\\python37\\\\lib\\\\site-packages\\\\matplotlib\\\\pyplot.py'>"
      ]
     },
     "execution_count": 136,
     "metadata": {},
     "output_type": "execute_result"
    },
    {
     "data": {
      "image/png": "[encoded data removed]",
      "text/plain": [
       "<Figure size 432x288 with 1 Axes>"
      ]
     },
     "metadata": {
      "needs_background": "light"
     },
     "output_type": "display_data"
    }
   ],
   "source": [
    "tokens_x_aft_stem = list(len_dist_after_stem.keys())\n",
    "tokens_y_aft_stem = list()\n",
    "\n",
    "for k,v in len_dist_after_stem.items():\n",
    "    tokens_y.append(len(v))\n",
    "\n",
    "fig = plt.figure()\n",
    "ax = fig.add_axes([0,0,1,1])\n",
    "ax.bar(tokens_x_aft_stem, tokens_y_aft_stem)\n",
    "ax.set_ylabel('Number of tokens')\n",
    "ax.set_xlabel('Length of tokens')\n",
    "ax.set_title('Token Distribution (After Stemming)')\n",
    "plt"
   ]
  },
  {
   "cell_type": "code",
   "execution_count": 150,
   "metadata": {
    "ExecuteTime": {
     "end_time": "2020-10-16T08:47:09.314554Z",
     "start_time": "2020-10-16T08:47:08.541432Z"
    }
   },
   "outputs": [],
   "source": [
    "from nltk.tokenize import sent_tokenize\n",
    "from collections import Counter\n",
    "\n",
    "#Sentence segmentation\n",
    "sentences = list()\n",
    "for i in data:\n",
    "    sentences.extend(sent_tokenize(i['text']))\n",
    "\n",
    "\n",
    "sentences_len_dist = []\n",
    "for s in sentences:\n",
    "    sentence_token = nltk.word_tokenize(s)\n",
    "    sentences_len_dist.append(len(sentence_token))\n",
    "\n",
    "sentences_len_dist = Counter(sentences_len_dist)"
   ]
  },
  {
   "cell_type": "code",
   "execution_count": 151,
   "metadata": {
    "ExecuteTime": {
     "end_time": "2020-10-16T08:47:10.862633Z",
     "start_time": "2020-10-16T08:47:10.619644Z"
    }
   },
   "outputs": [
    {
     "data": {
      "text/plain": [
       "<module 'matplotlib.pyplot' from 'c:\\\\users\\\\jerms\\\\appdata\\\\local\\\\programs\\\\python\\\\python37\\\\lib\\\\site-packages\\\\matplotlib\\\\pyplot.py'>"
      ]
     },
     "execution_count": 151,
     "metadata": {},
     "output_type": "execute_result"
    },
    {
     "data": {
      "image/png": "[encoded data removed]",
      "text/plain": [
       "<Figure size 432x288 with 1 Axes>"
      ]
     },
     "metadata": {
      "needs_background": "light"
     },
     "output_type": "display_data"
    }
   ],
   "source": [
    "# plot distribution of number of sentences of each length against length of sentences\n",
    "sentences_y = list(sentences_len_dist.values())\n",
    "sentences_x = list(sentences_len_dist.keys())\n",
    "\n",
    "fig = plt.figure()\n",
    "ax = fig.add_axes([0,0,1,1])\n",
    "ax.bar(sentences_x, sentences_y)\n",
    "ax.set_ylabel('Number of sentences')\n",
    "ax.set_xlabel('Length of sentences')\n",
    "ax.set_title('Sentence Distribution')\n",
    "plt"
   ]
  },
  {
   "cell_type": "code",
   "execution_count": null,
   "metadata": {},
   "outputs": [],
   "source": []
  }
 ],
 "metadata": {
  "kernelspec": {
   "display_name": "Python 3",
   "language": "python",
   "name": "python3"
  },
  "language_info": {
   "codemirror_mode": {
    "name": "ipython",
    "version": 3
   },
   "file_extension": ".py",
   "mimetype": "text/x-python",
   "name": "python",
   "nbconvert_exporter": "python",
   "pygments_lexer": "ipython3",
   "version": "3.7.2"
  }
 },
 "nbformat": 4,
 "nbformat_minor": 2
}
